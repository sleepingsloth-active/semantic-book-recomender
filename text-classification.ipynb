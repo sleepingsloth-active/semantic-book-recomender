{
 "cells": [
  {
   "cell_type": "code",
   "id": "initial_id",
   "metadata": {
    "collapsed": true
   },
   "source": [
    "import pandas as pd\n",
    "books = pd.read_csv('books_cleaned.csv')"
   ],
   "outputs": [],
   "execution_count": null
  },
  {
   "metadata": {},
   "cell_type": "code",
   "source": "books[\"categories\"].value_counts().reset_index()",
   "id": "beafd433a51a38bc",
   "outputs": [],
   "execution_count": null
  },
  {
   "metadata": {},
   "cell_type": "code",
   "source": [
    "#limit categories to 50 books or more\n",
    "books[\"categories\"].value_counts().reset_index().query(\"count>50\")"
   ],
   "id": "a9c95933d90edfa3",
   "outputs": [],
   "execution_count": null
  },
  {
   "metadata": {},
   "cell_type": "code",
   "source": "books[books[\"categories\"]==\"Poetry\"]",
   "id": "ff56cdb926d65620",
   "outputs": [],
   "execution_count": null
  },
  {
   "metadata": {},
   "cell_type": "code",
   "source": [
    "# Apply mapping to normalized categories\n",
    "category_mapping = {\n",
    "    \"Fiction\": \"Fiction\",\n",
    "    \"Juvenile Fiction\": \"Fiction\",\n",
    "    \"Comics & Graphic Novels\": \"Fiction\",\n",
    "    \"Drama\": \"Fiction\",\n",
    "    \"Poetry\": \"Fiction\",\n",
    "    \"Biography & Autobiography\": \"Non-Fiction\",\n",
    "    \"History\": \"Non-Fiction\",\n",
    "    \"Literary Criticism\": \"Non-Fiction\",\n",
    "    \"Religion\": \"Non-Fiction\",\n",
    "    \"Philosophy\": \"Non-Fiction\",\n",
    "    \"Juvenile Nonfiction\": \"Non-Fiction\",\n",
    "    \"Science\": \"Non-Fiction\"\n",
    "}\n",
    "books[\"simple_categories\"]=books[\"categories\"].map(category_mapping)"
   ],
   "id": "eb73e57040c503a4",
   "outputs": [],
   "execution_count": null
  },
  {
   "metadata": {},
   "cell_type": "code",
   "source": "books",
   "id": "662ee90c909ba470",
   "outputs": [],
   "execution_count": null
  },
  {
   "metadata": {},
   "cell_type": "code",
   "source": "books[~(books[\"simple_categories\"].isna())]",
   "id": "a3a98804e2c9b198",
   "outputs": [],
   "execution_count": null
  },
  {
   "metadata": {},
   "cell_type": "code",
   "source": [
    "#zero sort classification\n",
    "from transformers import pipeline\n",
    "fiction_categories = [\"Fiction\", \"Non-Fiction\"]\n",
    "\n",
    "pipe = pipeline(\"zero-shot-classification\", model=\"facebook/bart-large-mnli\")\n"
   ],
   "id": "7a827a97a535c16a",
   "outputs": [],
   "execution_count": null
  },
  {
   "metadata": {},
   "cell_type": "code",
   "source": "sequence=books.loc[books[\"simple_categories\"]== \"Fiction\",\"description\"].reset_index(drop=True)[0]",
   "id": "cec9e0041bafb1f4",
   "outputs": [],
   "execution_count": null
  },
  {
   "metadata": {},
   "cell_type": "code",
   "source": "pipe(sequence,fiction_categories)",
   "id": "758b5c8ba3ce092",
   "outputs": [],
   "execution_count": null
  },
  {
   "metadata": {},
   "cell_type": "code",
   "source": [
    "#post processing\n",
    "#take array that contains the scores and run numpys ug max method over it\n",
    "#yield is the index of the highest probability\n",
    "\n",
    "\n",
    "import numpy as np\n",
    "max_index=np.argmax(pipe(sequence,fiction_categories)[\"scores\"])\n",
    "max_label=pipe(sequence,fiction_categories)[\"labels\"][max_index]\n",
    "\n",
    "max_label"
   ],
   "id": "2df979c193b76bfb",
   "outputs": [],
   "execution_count": null
  },
  {
   "metadata": {},
   "cell_type": "code",
   "source": [
    "# Filter descriptions by category\n",
    "fiction_descriptions = books.loc[books[\"simple_categories\"] == \"Fiction\", \"description\"].reset_index(drop=True)\n",
    "nonfiction_descriptions = books.loc[books[\"simple_categories\"] == \"Non-Fiction\", \"description\"].reset_index(drop=True)"
   ],
   "id": "3754738d8eb06d1f",
   "outputs": [],
   "execution_count": null
  },
  {
   "metadata": {},
   "cell_type": "code",
   "source": [
    "#now bundel all of that up into a function we will call it general prediction\n",
    "def generate_prediction(sequence,categories):\n",
    "    prediction=pipe(sequence,categories)\n",
    "    max_index=np.argmax(prediction[\"scores\"])\n",
    "    max_label=prediction[\"labels\"][max_index]\n",
    "    return max_label"
   ],
   "id": "91938e0da1e0add0",
   "outputs": [],
   "execution_count": null
  },
  {
   "metadata": {},
   "cell_type": "code",
   "source": [
    "from tqdm import tqdm\n",
    "\n",
    "actual_cats = []\n",
    "predicted_cats = []\n",
    "\n",
    "for i in tqdm(range(0, 300)):\n",
    "    sequence = books.loc[books[\"simple_categories\"] == \"Fiction\", \"description\"].reset_index(drop=True)[i]\n",
    "    predicted_cats.append(generate_prediction(sequence, fiction_categories))\n",
    "    actual_cats.append(\"Fiction\")\n",
    "\n",
    "    for i in tqdm(range(0, 300)):\n",
    "    sequence = books.loc[books[\"simple_categories\"] == \"Non-Fiction\", \"description\"].reset_index(drop=True)[i]\n",
    "    predicted_cats.append(generate_prediction(sequence, fiction_categories))\n",
    "    actual_cats.append(\"Non-Fiction\")\n"
   ],
   "id": "74c75700d89db335",
   "outputs": [],
   "execution_count": null
  },
  {
   "metadata": {},
   "cell_type": "code",
   "source": "predictions_df=pd.DataFrame({\"actual_categories\":actual_cats,\"predicted_categories\":predicted_cats})",
   "id": "893c39810dde0e35",
   "outputs": [],
   "execution_count": null
  },
  {
   "metadata": {},
   "cell_type": "code",
   "source": "predictions_df\n",
   "id": "2d94fff334152ea",
   "outputs": [],
   "execution_count": null
  },
  {
   "metadata": {},
   "cell_type": "code",
   "source": "predictions_df[\"correct_prediction\"] =(np.where(predictions_df[\"actual_categories\"]==predictions_df[\"predicted_categories\"], 1, 0))",
   "id": "6c35fd82b289e99b",
   "outputs": [],
   "execution_count": null
  },
  {
   "metadata": {},
   "cell_type": "code",
   "source": "predictions_df[\"correct_prediction\"].sum() / len(predictions_df)",
   "id": "2226e11e54ec4a5a",
   "outputs": [],
   "execution_count": null
  },
  {
   "metadata": {},
   "cell_type": "code",
   "source": "",
   "id": "93f937c39b149dac",
   "outputs": [],
   "execution_count": null
  }
 ],
 "metadata": {
  "kernelspec": {
   "display_name": "Python 3",
   "language": "python",
   "name": "python3"
  },
  "language_info": {
   "codemirror_mode": {
    "name": "ipython",
    "version": 2
   },
   "file_extension": ".py",
   "mimetype": "text/x-python",
   "name": "python",
   "nbconvert_exporter": "python",
   "pygments_lexer": "ipython2",
   "version": "2.7.6"
  }
 },
 "nbformat": 4,
 "nbformat_minor": 5
}
